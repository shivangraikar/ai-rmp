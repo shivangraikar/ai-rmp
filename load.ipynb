{
 "cells": [
  {
   "cell_type": "code",
   "execution_count": 39,
   "metadata": {},
   "outputs": [
    {
     "data": {
      "text/plain": [
       "True"
      ]
     },
     "execution_count": 39,
     "metadata": {},
     "output_type": "execute_result"
    }
   ],
   "source": [
    "import os \n",
    "from dotenv import load_dotenv\n",
    "from pinecone import Pinecone, ServerlessSpec\n",
    "\n",
    "load_dotenv()"
   ]
  },
  {
   "cell_type": "code",
   "execution_count": 40,
   "metadata": {},
   "outputs": [],
   "source": [
    "\n",
    "try:\n",
    "    pc = Pinecone(api_key = os.getenv('PINECONE_API_KEY'))\n",
    "    pc.create_index(\n",
    "        name = 'rag',\n",
    "        dimension = 384,\n",
    "        metric = 'cosine',\n",
    "        spec = ServerlessSpec(\n",
    "            cloud = 'aws',\n",
    "            region = 'us-east-1'\n",
    "        )\n",
    "    )\n",
    "except:\n",
    "    pass "
   ]
  },
  {
   "cell_type": "code",
   "execution_count": 41,
   "metadata": {},
   "outputs": [
    {
     "data": {
      "text/plain": [
       "[{'professor': 'Dr. John Smith',\n",
       "  'subject': 'Computer Science',\n",
       "  'stars': 4,\n",
       "  'review': 'Great professor, explains concepts clearly and is very approachable.'},\n",
       " {'professor': 'Prof. Emily Johnson',\n",
       "  'subject': 'Mathematics',\n",
       "  'stars': 5,\n",
       "  'review': 'Amazing teacher! Her lectures are well-organized and easy to follow.'},\n",
       " {'professor': 'Dr. Michael Brown',\n",
       "  'subject': 'Physics',\n",
       "  'stars': 3,\n",
       "  'review': 'The class was tough, but he knows his stuff. Be prepared to study hard.'},\n",
       " {'professor': 'Prof. Sarah Lee',\n",
       "  'subject': 'Biology',\n",
       "  'stars': 2,\n",
       "  'review': 'Lectures can be boring, and the material is not well-organized.'},\n",
       " {'professor': 'Dr. David Wilson',\n",
       "  'subject': 'Chemistry',\n",
       "  'stars': 5,\n",
       "  'review': 'Very enthusiastic about the subject and makes the lectures interesting.'},\n",
       " {'professor': 'Prof. Linda Davis',\n",
       "  'subject': 'History',\n",
       "  'stars': 4,\n",
       "  'review': 'Good professor, but the exams are a bit challenging.'},\n",
       " {'professor': 'Dr. Karen Martinez',\n",
       "  'subject': 'Political Science',\n",
       "  'stars': 3,\n",
       "  'review': 'Decent professor, but sometimes hard to follow.'},\n",
       " {'professor': 'Prof. James Garcia',\n",
       "  'subject': 'Economics',\n",
       "  'stars': 4,\n",
       "  'review': 'Engaging lecturer with real-world examples that make the material relatable.'},\n",
       " {'professor': 'Dr. Patricia Miller',\n",
       "  'subject': 'English Literature',\n",
       "  'stars': 5,\n",
       "  'review': 'Excellent professor, very knowledgeable and passionate about literature.'},\n",
       " {'professor': 'Prof. Robert Gonzalez',\n",
       "  'subject': 'Philosophy',\n",
       "  'stars': 2,\n",
       "  'review': 'The lectures are too abstract, and the grading is harsh.'},\n",
       " {'professor': 'Dr. Barbara Hernandez',\n",
       "  'subject': 'Sociology',\n",
       "  'stars': 3,\n",
       "  'review': 'Interesting topics, but sometimes difficult to stay engaged.'},\n",
       " {'professor': 'Prof. William Clark',\n",
       "  'subject': 'Art History',\n",
       "  'stars': 4,\n",
       "  'review': 'Good professor, provides great insights into the art world.'},\n",
       " {'professor': 'Dr. Susan Rodriguez',\n",
       "  'subject': 'Psychology',\n",
       "  'stars': 5,\n",
       "  'review': 'Fantastic professor, makes complex topics easy to understand.'},\n",
       " {'professor': 'Prof. Richard Lewis',\n",
       "  'subject': 'Engineering',\n",
       "  'stars': 3,\n",
       "  'review': 'The material is very technical, and the lectures can be dry.'},\n",
       " {'professor': 'Dr. Elizabeth Walker',\n",
       "  'subject': 'Linguistics',\n",
       "  'stars': 4,\n",
       "  'review': 'Very knowledgeable and approachable, but sometimes speaks too fast.'},\n",
       " {'professor': 'Prof. Charles Young',\n",
       "  'subject': 'Anthropology',\n",
       "  'stars': 5,\n",
       "  'review': 'Incredibly interesting lectures, and the professor is very engaging.'},\n",
       " {'professor': 'Dr. Jennifer King',\n",
       "  'subject': 'Environmental Science',\n",
       "  'stars': 4,\n",
       "  'review': 'Great professor, but the workload is heavy.'},\n",
       " {'professor': 'Prof. Paul Wright',\n",
       "  'subject': 'Business Administration',\n",
       "  'stars': 3,\n",
       "  'review': 'Good professor, but the grading is very strict.'},\n",
       " {'professor': 'Dr. Nancy Scott',\n",
       "  'subject': 'Nursing',\n",
       "  'stars': 5,\n",
       "  'review': 'Very caring and supportive, and provides valuable real-world advice.'},\n",
       " {'professor': 'Prof. Donald Green',\n",
       "  'subject': 'Geology',\n",
       "  'stars': 4,\n",
       "  'review': 'Interesting lectures, but the exams are difficult.'}]"
      ]
     },
     "execution_count": 41,
     "metadata": {},
     "output_type": "execute_result"
    }
   ],
   "source": [
    "import json \n",
    "data = json.load(open('reviews.json'))\n",
    "data['reviews']"
   ]
  },
  {
   "cell_type": "code",
   "execution_count": 42,
   "metadata": {},
   "outputs": [
    {
     "name": "stdout",
     "output_type": "stream",
     "text": [
      "(384,)\n",
      "(384,)\n",
      "(384,)\n",
      "(384,)\n",
      "(384,)\n",
      "(384,)\n",
      "(384,)\n",
      "(384,)\n",
      "(384,)\n",
      "(384,)\n",
      "(384,)\n",
      "(384,)\n",
      "(384,)\n",
      "(384,)\n",
      "(384,)\n",
      "(384,)\n",
      "(384,)\n",
      "(384,)\n",
      "(384,)\n",
      "(384,)\n"
     ]
    }
   ],
   "source": [
    "from sentence_transformers import SentenceTransformer\n",
    "\n",
    "processed_data = [] \n",
    "for review in data['reviews']:\n",
    "    model = SentenceTransformer(\"all-MiniLM-L6-v2\")\n",
    "    sentence = review['review']\n",
    "    \n",
    "    embeddings = model.encode(sentence)\n",
    "    print(embeddings.shape)\n",
    "    processed_data.append( {\n",
    "        'values': embeddings,\n",
    "        'id': review['professor'],\n",
    "        'metadata': {\n",
    "            'review': review['review'],\n",
    "             'subject': review['subject'],\n",
    "             'stars' : review['stars']  \n",
    "        }\n",
    "    })"
   ]
  },
  {
   "cell_type": "code",
   "execution_count": 43,
   "metadata": {},
   "outputs": [
    {
     "data": {
      "text/plain": [
       "{'upserted_count': 20}"
      ]
     },
     "execution_count": 43,
     "metadata": {},
     "output_type": "execute_result"
    }
   ],
   "source": [
    "index = pc.Index('rag')\n",
    "index.upsert(\n",
    "    vectors = processed_data,\n",
    "    namespace = \"ns1\"\n",
    ")"
   ]
  },
  {
   "cell_type": "code",
   "execution_count": 44,
   "metadata": {},
   "outputs": [
    {
     "data": {
      "text/plain": [
       "{'dimension': 384,\n",
       " 'index_fullness': 0.0,\n",
       " 'namespaces': {'ns1': {'vector_count': 20}},\n",
       " 'total_vector_count': 20}"
      ]
     },
     "execution_count": 44,
     "metadata": {},
     "output_type": "execute_result"
    }
   ],
   "source": [
    "index.describe_index_stats()"
   ]
  }
 ],
 "metadata": {
  "kernelspec": {
   "display_name": "rag",
   "language": "python",
   "name": "python3"
  },
  "language_info": {
   "codemirror_mode": {
    "name": "ipython",
    "version": 3
   },
   "file_extension": ".py",
   "mimetype": "text/x-python",
   "name": "python",
   "nbconvert_exporter": "python",
   "pygments_lexer": "ipython3",
   "version": "3.12.4"
  }
 },
 "nbformat": 4,
 "nbformat_minor": 2
}
