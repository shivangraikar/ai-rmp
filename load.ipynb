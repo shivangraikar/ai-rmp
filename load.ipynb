{
 "cells": [
  {
   "cell_type": "code",
   "execution_count": null,
   "metadata": {},
   "outputs": [],
   "source": [
    "import os \n",
    "from dotenv import load_dotenv\n",
    "from pinecone import Pinecone, ServerlessSpec\n",
    "\n",
    "load_dotenv()"
   ]
  },
  {
   "cell_type": "code",
   "execution_count": null,
   "metadata": {},
   "outputs": [],
   "source": [
    "\n",
    "try:\n",
    "    pc = Pinecone(api_key = os.getenv('PINECONE_API_KEY'))\n",
    "    pc.create_index(\n",
    "        name = 'rag',\n",
    "        dimension = 384,\n",
    "        metric = 'cosine',\n",
    "        spec = ServerlessSpec(\n",
    "            cloud = 'aws',\n",
    "            region = 'us-east-1'\n",
    "        )\n",
    "    )\n",
    "except:\n",
    "    pass "
   ]
  },
  {
   "cell_type": "code",
   "execution_count": null,
   "metadata": {},
   "outputs": [],
   "source": [
    "import json \n",
    "data = json.load(open('reviews.json'))\n",
    "data['reviews']"
   ]
  },
  {
   "cell_type": "code",
   "execution_count": null,
   "metadata": {},
   "outputs": [],
   "source": [
    "from sentence_transformers import SentenceTransformer\n",
    "\n",
    "processed_data = [] \n",
    "for review in data['reviews']:\n",
    "    model = SentenceTransformer(\"all-MiniLM-L6-v2\")\n",
    "    sentence = review['review']\n",
    "    \n",
    "    embeddings = model.encode(sentence)\n",
    "    print(embeddings.shape)\n",
    "    processed_data.append( {\n",
    "        'values': embeddings,\n",
    "        'id': review['professor'],\n",
    "        'metadata': {\n",
    "            'review': review['review'],\n",
    "             'subject': review['subject'],\n",
    "             'stars' : review['stars']  \n",
    "        }\n",
    "    })"
   ]
  },
  {
   "cell_type": "code",
   "execution_count": null,
   "metadata": {},
   "outputs": [],
   "source": [
    "index = pc.Index('rag')\n",
    "index.upsert(\n",
    "    vectors = processed_data,\n",
    "    namespace = \"ns1\"\n",
    ")"
   ]
  },
  {
   "cell_type": "code",
   "execution_count": null,
   "metadata": {},
   "outputs": [],
   "source": [
    "index.describe_index_stats()"
   ]
  }
 ],
 "metadata": {
  "kernelspec": {
   "display_name": "rag",
   "language": "python",
   "name": "python3"
  },
  "language_info": {
   "codemirror_mode": {
    "name": "ipython",
    "version": 3
   },
   "file_extension": ".py",
   "mimetype": "text/x-python",
   "name": "python",
   "nbconvert_exporter": "python",
   "pygments_lexer": "ipython3",
   "version": "3.10.14"
  }
 },
 "nbformat": 4,
 "nbformat_minor": 2
}
