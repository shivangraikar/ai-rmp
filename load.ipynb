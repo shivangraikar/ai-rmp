{
 "cells": [
  {
   "cell_type": "code",
   "execution_count": 1,
   "metadata": {},
   "outputs": [
    {
     "name": "stderr",
     "output_type": "stream",
     "text": [
      "/Users/shivangraikar/opt/anaconda3/envs/rag/lib/python3.10/site-packages/pinecone/data/index.py:1: TqdmWarning: IProgress not found. Please update jupyter and ipywidgets. See https://ipywidgets.readthedocs.io/en/stable/user_install.html\n",
      "  from tqdm.autonotebook import tqdm\n"
     ]
    },
    {
     "data": {
      "text/plain": [
       "True"
      ]
     },
     "execution_count": 1,
     "metadata": {},
     "output_type": "execute_result"
    }
   ],
   "source": [
    "import os \n",
    "from dotenv import load_dotenv\n",
    "from pinecone import Pinecone, ServerlessSpec\n",
    "\n",
    "load_dotenv()"
   ]
  },
  {
   "cell_type": "code",
   "execution_count": 2,
   "metadata": {},
   "outputs": [],
   "source": [
    "\n",
    "try:\n",
    "    pc = Pinecone(api_key = os.getenv('PINECONE_API_KEY'))\n",
    "    pc.create_index(\n",
    "        name = 'rag',\n",
    "        dimension = 384,\n",
    "        metric = 'cosine',\n",
    "        spec = ServerlessSpec(\n",
    "            cloud = 'aws',\n",
    "            region = 'us-east-1'\n",
    "        )\n",
    "    )\n",
    "except:\n",
    "    pass "
   ]
  },
  {
   "cell_type": "code",
   "execution_count": 3,
   "metadata": {},
   "outputs": [
    {
     "data": {
      "text/plain": [
       "[{'professor': 'Dr. John Smith',\n",
       "  'subject': 'Computer Science',\n",
       "  'stars': 4,\n",
       "  'review': 'Great professor, explains concepts clearly and is very approachable.'},\n",
       " {'professor': 'Prof. Emily Johnson',\n",
       "  'subject': 'Mathematics',\n",
       "  'stars': 5,\n",
       "  'review': 'Amazing teacher! Her lectures are well-organized and easy to follow.'},\n",
       " {'professor': 'Dr. Michael Brown',\n",
       "  'subject': 'Physics',\n",
       "  'stars': 3,\n",
       "  'review': 'The class was tough, but he knows his stuff. Be prepared to study hard.'},\n",
       " {'professor': 'Prof. Sarah Lee',\n",
       "  'subject': 'Biology',\n",
       "  'stars': 2,\n",
       "  'review': 'Lectures can be boring, and the material is not well-organized.'},\n",
       " {'professor': 'Dr. David Wilson',\n",
       "  'subject': 'Chemistry',\n",
       "  'stars': 5,\n",
       "  'review': 'Very enthusiastic about the subject and makes the lectures interesting.'},\n",
       " {'professor': 'Prof. Linda Davis',\n",
       "  'subject': 'History',\n",
       "  'stars': 4,\n",
       "  'review': 'Good professor, but the exams are a bit challenging.'},\n",
       " {'professor': 'Dr. Karen Martinez',\n",
       "  'subject': 'Political Science',\n",
       "  'stars': 3,\n",
       "  'review': 'Decent professor, but sometimes hard to follow.'},\n",
       " {'professor': 'Prof. James Garcia',\n",
       "  'subject': 'Economics',\n",
       "  'stars': 4,\n",
       "  'review': 'Engaging lecturer with real-world examples that make the material relatable.'},\n",
       " {'professor': 'Dr. Patricia Miller',\n",
       "  'subject': 'English Literature',\n",
       "  'stars': 5,\n",
       "  'review': 'Excellent professor, very knowledgeable and passionate about literature.'},\n",
       " {'professor': 'Prof. Robert Gonzalez',\n",
       "  'subject': 'Philosophy',\n",
       "  'stars': 2,\n",
       "  'review': 'The lectures are too abstract, and the grading is harsh.'},\n",
       " {'professor': 'Dr. Barbara Hernandez',\n",
       "  'subject': 'Sociology',\n",
       "  'stars': 3,\n",
       "  'review': 'Interesting topics, but sometimes difficult to stay engaged.'},\n",
       " {'professor': 'Prof. William Clark',\n",
       "  'subject': 'Art History',\n",
       "  'stars': 4,\n",
       "  'review': 'Good professor, provides great insights into the art world.'},\n",
       " {'professor': 'Dr. Susan Rodriguez',\n",
       "  'subject': 'Psychology',\n",
       "  'stars': 5,\n",
       "  'review': 'Fantastic professor, makes complex topics easy to understand.'},\n",
       " {'professor': 'Prof. Richard Lewis',\n",
       "  'subject': 'Engineering',\n",
       "  'stars': 3,\n",
       "  'review': 'The material is very technical, and the lectures can be dry.'},\n",
       " {'professor': 'Dr. Elizabeth Walker',\n",
       "  'subject': 'Linguistics',\n",
       "  'stars': 4,\n",
       "  'review': 'Very knowledgeable and approachable, but sometimes speaks too fast.'},\n",
       " {'professor': 'Prof. Charles Young',\n",
       "  'subject': 'Anthropology',\n",
       "  'stars': 5,\n",
       "  'review': 'Incredibly interesting lectures, and the professor is very engaging.'},\n",
       " {'professor': 'Dr. Jennifer King',\n",
       "  'subject': 'Environmental Science',\n",
       "  'stars': 4,\n",
       "  'review': 'Great professor, but the workload is heavy.'},\n",
       " {'professor': 'Prof. Paul Wright',\n",
       "  'subject': 'Business Administration',\n",
       "  'stars': 3,\n",
       "  'review': 'Good professor, but the grading is very strict.'},\n",
       " {'professor': 'Dr. Nancy Scott',\n",
       "  'subject': 'Nursing',\n",
       "  'stars': 5,\n",
       "  'review': 'Very caring and supportive, and provides valuable real-world advice.'},\n",
       " {'professor': 'Prof. Donald Green',\n",
       "  'subject': 'Geology',\n",
       "  'stars': 4,\n",
       "  'review': 'Interesting lectures, but the exams are difficult.'}]"
      ]
     },
     "execution_count": 3,
     "metadata": {},
     "output_type": "execute_result"
    }
   ],
   "source": [
    "import json \n",
    "data = json.load(open('reviews.json'))\n",
    "data['reviews']"
   ]
  },
  {
   "cell_type": "code",
   "execution_count": 7,
   "metadata": {},
   "outputs": [
    {
     "name": "stdout",
     "output_type": "stream",
     "text": [
      "(384,)\n",
      "(384,)\n",
      "(384,)\n",
      "(384,)\n",
      "(384,)\n",
      "(384,)\n",
      "(384,)\n",
      "(384,)\n",
      "(384,)\n",
      "(384,)\n",
      "(384,)\n",
      "(384,)\n",
      "(384,)\n",
      "(384,)\n",
      "(384,)\n",
      "(384,)\n",
      "(384,)\n",
      "(384,)\n",
      "(384,)\n",
      "(384,)\n"
     ]
    }
   ],
   "source": [
    "from sentence_transformers import SentenceTransformer\n",
    "\n",
    "processed_data = [] \n",
    "for review in data['reviews']:\n",
    "    model = SentenceTransformer(\"all-MiniLM-L6-v2\")\n",
    "    sentence = review['review']\n",
    "    \n",
    "    embeddings = model.encode(sentence)\n",
    "    print(embeddings.shape)\n",
    "    processed_data.append( {\n",
    "        'values': embeddings,\n",
    "        'id': review['professor'],\n",
    "        'metadata': {\n",
    "            'review': review['review'],\n",
    "             'subject': review['subject'],\n",
    "             'stars' : review['stars']  \n",
    "        }\n",
    "    })"
   ]
  },
  {
   "cell_type": "code",
   "execution_count": 8,
   "metadata": {},
   "outputs": [
    {
     "data": {
      "text/plain": [
       "{'values': array([ 1.06635662e-02, -2.35913657e-02, -4.57718410e-02, -3.75261381e-02,\n",
       "        -7.55031407e-02, -3.62167545e-02,  3.27636139e-03,  4.99032475e-02,\n",
       "        -7.78784454e-02,  3.29818577e-02, -2.75560413e-02,  8.09926987e-02,\n",
       "        -6.62412420e-02,  5.87010346e-02, -1.46907140e-02, -1.62285368e-03,\n",
       "        -4.80473042e-03, -8.72953609e-02, -1.24082621e-02, -1.38314888e-01,\n",
       "         8.16781372e-02,  3.91527377e-02,  4.39176522e-02, -3.33522223e-02,\n",
       "        -7.35988002e-03,  2.62389686e-02,  1.29018240e-02, -1.61386915e-02,\n",
       "         9.27816927e-02, -9.37808398e-03, -4.97294590e-02,  4.84152399e-02,\n",
       "        -7.28527829e-03,  1.11110210e-02, -5.94621003e-02,  7.92611316e-02,\n",
       "        -3.85853201e-02,  1.30568683e-01,  1.14613390e-02, -9.18410346e-03,\n",
       "        -7.67827109e-02,  3.92479710e-02,  3.07301041e-02, -2.81365532e-02,\n",
       "         3.41194309e-03, -6.30579293e-02,  2.46548355e-02, -3.53734829e-02,\n",
       "        -1.86381098e-02, -5.24565168e-02, -9.74889770e-02, -1.58188567e-02,\n",
       "        -7.16020092e-02, -7.97873661e-02, -1.13817751e-02,  4.55278754e-02,\n",
       "         9.09110717e-03,  2.90795732e-02, -2.19600182e-02, -1.19356439e-01,\n",
       "        -1.03836588e-03,  3.90456943e-03, -5.14369868e-02,  2.44677830e-02,\n",
       "         7.94433206e-02,  1.45702483e-02, -1.58727169e-02,  4.13546972e-02,\n",
       "        -9.72864963e-03,  4.34449911e-02, -4.57441285e-02,  1.87421367e-02,\n",
       "         3.46049331e-02,  5.36147952e-02,  1.94512755e-02, -6.62227115e-03,\n",
       "         6.61578253e-02,  7.85076693e-02,  1.77081153e-02,  6.89367801e-02,\n",
       "        -2.14960985e-02, -1.03804618e-02,  1.39955385e-02, -1.24978628e-02,\n",
       "         1.84220579e-02, -6.85569942e-02,  7.92345311e-03, -4.80398461e-02,\n",
       "        -2.16421057e-02,  1.75482351e-02,  5.51378056e-02, -1.67537536e-02,\n",
       "         3.61067802e-02, -1.84292458e-02,  5.48686236e-02,  7.33322054e-02,\n",
       "        -1.57292113e-02, -5.60647063e-02, -4.03161310e-02,  1.64673608e-02,\n",
       "         1.07404520e-03,  9.48479772e-03, -1.77077446e-02, -4.61109243e-02,\n",
       "        -3.51011269e-02,  5.24987327e-03,  3.16458270e-02,  2.67850589e-02,\n",
       "         3.90242450e-02, -2.22455803e-02, -1.92883555e-02,  1.92977637e-02,\n",
       "        -1.29670175e-02, -5.57617517e-03,  6.77726045e-02,  3.55367512e-02,\n",
       "         3.62203680e-02,  4.53318954e-02,  1.29199419e-02, -4.05137390e-02,\n",
       "         6.98484480e-02,  5.01518585e-02, -5.38669806e-03,  2.56560426e-02,\n",
       "         1.12439999e-02,  9.23678651e-03,  2.12883428e-02, -3.41385453e-33,\n",
       "        -5.43496497e-02,  9.29368213e-02,  8.09177160e-02,  8.86971578e-02,\n",
       "        -5.12655340e-02, -1.33959055e-02,  7.65841571e-04,  1.80779805e-03,\n",
       "         1.16385520e-02,  5.22793159e-02,  6.44172281e-02,  1.21143624e-01,\n",
       "         5.89978695e-02,  4.92121689e-02, -6.60050437e-02, -3.71862389e-02,\n",
       "        -7.17365518e-02,  1.56715512e-02, -7.41135478e-02,  3.15032341e-02,\n",
       "         2.88413037e-02,  3.31713222e-02,  4.89042476e-02, -8.45114514e-02,\n",
       "         7.79873803e-02,  3.49851238e-04,  9.72172767e-02,  2.22910065e-02,\n",
       "         1.05730772e-01,  2.19551120e-02, -1.75894778e-02, -1.18585024e-03,\n",
       "        -1.83972031e-01, -1.25311352e-02,  6.02018200e-02, -1.15873152e-02,\n",
       "        -3.89825664e-02, -3.61405648e-02,  3.75141017e-02, -6.16570152e-02,\n",
       "         1.60873253e-02, -1.69645231e-02, -3.16158123e-02,  7.03447871e-03,\n",
       "        -2.92114052e-03,  6.02378137e-02,  6.33431450e-02, -1.31434230e-02,\n",
       "         1.53198941e-02,  2.19661817e-02, -1.39537469e-01, -8.29330087e-02,\n",
       "        -2.96412352e-02, -3.80692780e-02, -2.53403652e-02,  5.18807489e-03,\n",
       "         1.88165884e-02,  7.02426583e-02, -3.62989083e-02,  2.14692056e-02,\n",
       "        -3.19106691e-02,  7.97172710e-02, -5.92007823e-02,  4.50972887e-03,\n",
       "        -7.59553835e-02, -8.82188976e-02, -1.10173345e-01,  2.19658688e-02,\n",
       "         4.18525040e-02, -7.37188244e-03, -4.37349230e-02,  5.41579127e-02,\n",
       "         8.59276503e-02, -5.06425239e-02, -5.22658564e-02, -1.21952463e-02,\n",
       "         8.78557004e-03, -4.90486913e-04,  1.28707010e-02, -5.24599710e-03,\n",
       "        -4.40839455e-02, -7.83749484e-03,  4.43175025e-02, -5.47802038e-02,\n",
       "        -1.16689950e-01, -2.07094476e-03,  5.20028882e-02,  7.50537142e-02,\n",
       "         1.72703937e-02, -8.50693043e-03, -3.57631519e-02, -1.30391847e-02,\n",
       "         6.17076010e-02,  3.86598371e-02, -1.17297089e-02,  6.24142960e-34,\n",
       "         1.08553031e-02,  1.92810092e-02,  1.97380688e-02,  1.12704992e-01,\n",
       "         5.51568903e-02,  2.96185706e-02, -1.20495148e-01,  3.06300223e-02,\n",
       "         1.51031641e-02, -5.07348068e-02, -3.31371315e-02,  1.16556391e-01,\n",
       "        -2.76704058e-02,  6.73984364e-02, -7.58856386e-02, -4.05893363e-02,\n",
       "        -1.64090097e-02, -1.15796275e-01, -4.00970466e-02, -3.22453305e-02,\n",
       "        -2.85587646e-02,  1.20295063e-01, -6.59224465e-02, -5.29852137e-02,\n",
       "        -1.64446775e-02,  2.35663503e-02, -9.91742499e-03,  9.09198914e-03,\n",
       "        -6.24100044e-02,  4.63485764e-03, -5.29451184e-02, -8.24093726e-03,\n",
       "        -5.86146899e-02,  2.54666209e-02, -7.34355003e-02,  7.46167898e-02,\n",
       "         6.27785325e-02, -4.93585225e-03, -2.25367900e-02,  8.65360498e-02,\n",
       "         5.28854690e-02,  6.50450960e-03,  1.67876459e-03, -4.61680926e-02,\n",
       "         6.53010905e-02, -3.27236243e-02,  9.93500929e-03,  3.79504934e-02,\n",
       "        -7.83082619e-02,  2.73171850e-02, -5.33022396e-02,  2.84729563e-02,\n",
       "         1.01702735e-02, -1.13177031e-01,  4.29246388e-02, -1.31246378e-03,\n",
       "         1.02859035e-01, -4.56897169e-02,  3.53619247e-03,  2.82166693e-02,\n",
       "        -1.05129130e-01, -2.81612575e-03,  6.57041967e-02,  8.01123306e-02,\n",
       "         2.02908423e-02, -8.05702433e-03, -1.06555440e-01, -2.51859776e-03,\n",
       "         7.59707298e-03, -4.28046957e-02, -6.34686090e-03, -2.21466795e-02,\n",
       "        -1.73258465e-02,  7.32271792e-03, -2.00974718e-02, -2.38526650e-02,\n",
       "         1.09146545e-02, -5.86028025e-02, -4.70052734e-02, -5.03891110e-02,\n",
       "         7.96019137e-02, -7.84554705e-02,  5.33723552e-03, -2.67387889e-02,\n",
       "        -3.00699230e-02,  4.00477238e-02, -2.55954918e-02, -6.91955015e-02,\n",
       "         3.68573405e-02, -1.67038292e-02, -6.38022199e-02, -1.81275494e-02,\n",
       "         1.77946948e-02, -3.86817530e-02, -6.80338889e-02, -1.88970102e-08,\n",
       "        -3.30864973e-02, -5.61806485e-02,  4.92696762e-02,  7.01533305e-03,\n",
       "        -5.45722619e-02,  3.89828794e-02, -3.08578163e-02,  2.84227189e-02,\n",
       "        -4.55248654e-02,  9.28577501e-03,  2.66597439e-02,  1.14276456e-02,\n",
       "        -7.07329288e-02,  9.89136100e-02,  5.43193705e-02, -1.67994872e-02,\n",
       "         4.97128330e-02,  8.42977464e-02, -5.92673197e-02,  3.75739448e-02,\n",
       "         8.29107836e-02,  1.06025934e-02,  3.15678567e-02,  8.18810761e-02,\n",
       "         6.55555725e-02,  7.55209476e-03,  7.15149567e-02,  1.79866739e-02,\n",
       "        -4.01617624e-02,  6.21773303e-02, -5.74870408e-02,  1.09371424e-01,\n",
       "        -9.26604401e-03, -3.03112436e-02,  5.91636151e-02,  5.67787066e-02,\n",
       "         4.96998914e-02, -4.62653302e-02,  3.26538943e-02,  2.45520007e-02,\n",
       "        -1.23802222e-01, -7.54610868e-03, -2.42341384e-02,  1.71336345e-02,\n",
       "         6.30502626e-02, -5.92473568e-03,  3.32012028e-02, -2.18742006e-02,\n",
       "        -2.29524896e-02,  1.59413870e-02, -5.58360964e-02,  8.81386474e-02,\n",
       "        -1.70037542e-02, -4.19594683e-02, -1.30485755e-03, -1.83947347e-02,\n",
       "        -5.47533249e-03, -2.60627512e-02, -9.19950381e-02,  7.82699045e-03,\n",
       "         2.20069326e-02,  1.15166590e-01,  9.08073212e-04,  2.28537153e-02],\n",
       "       dtype=float32),\n",
       " 'id': 'Dr. John Smith',\n",
       " 'metadata': {'review': 'Great professor, explains concepts clearly and is very approachable.',\n",
       "  'subject': 'Computer Science',\n",
       "  'stars': 4}}"
      ]
     },
     "execution_count": 8,
     "metadata": {},
     "output_type": "execute_result"
    }
   ],
   "source": [
    "processed_data[0]"
   ]
  },
  {
   "cell_type": "code",
   "execution_count": 9,
   "metadata": {},
   "outputs": [
    {
     "data": {
      "text/plain": [
       "{'upserted_count': 20}"
      ]
     },
     "execution_count": 9,
     "metadata": {},
     "output_type": "execute_result"
    }
   ],
   "source": [
    "index = pc.Index('rag')\n",
    "index.upsert(\n",
    "    vectors = processed_data,\n",
    "    namespace = \"ns1\"\n",
    ")"
   ]
  },
  {
   "cell_type": "code",
   "execution_count": 10,
   "metadata": {},
   "outputs": [
    {
     "data": {
      "text/plain": [
       "{'dimension': 384,\n",
       " 'index_fullness': 0.0,\n",
       " 'namespaces': {'ns1': {'vector_count': 20}},\n",
       " 'total_vector_count': 20}"
      ]
     },
     "execution_count": 10,
     "metadata": {},
     "output_type": "execute_result"
    }
   ],
   "source": [
    "index.describe_index_stats()"
   ]
  },
  {
   "cell_type": "code",
   "execution_count": null,
   "metadata": {},
   "outputs": [],
   "source": []
  }
 ],
 "metadata": {
  "kernelspec": {
   "display_name": "rag",
   "language": "python",
   "name": "python3"
  },
  "language_info": {
   "codemirror_mode": {
    "name": "ipython",
    "version": 3
   },
   "file_extension": ".py",
   "mimetype": "text/x-python",
   "name": "python",
   "nbconvert_exporter": "python",
   "pygments_lexer": "ipython3",
   "version": "3.10.14"
  }
 },
 "nbformat": 4,
 "nbformat_minor": 2
}
